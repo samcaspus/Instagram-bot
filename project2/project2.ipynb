{
 "cells": [
  {
   "cell_type": "code",
   "execution_count": 28,
   "metadata": {},
   "outputs": [],
   "source": [
    "###### added all the recomended header files\n",
    "from selenium import webdriver\n",
    "import time\n",
    "import matplotlib.pyplot as plt\n",
    "import pandas as pd\n",
    "import numpy as np"
   ]
  },
  {
   "cell_type": "code",
   "execution_count": 2,
   "metadata": {},
   "outputs": [],
   "source": [
    "##### opened the relevant browser\n",
    "driver = webdriver.Chrome(executable_path='./chromedriver.exe')\n",
    "driver.get('https://www.instagram.com/accounts/login/?source=auth_switcher')"
   ]
  },
  {
   "cell_type": "code",
   "execution_count": 3,
   "metadata": {},
   "outputs": [],
   "source": [
    "###### logged into the system\n",
    "time.sleep(3)\n",
    "entry = driver.find_element_by_xpath('/html/body/span/section/main/div/article/div/div[1]/div/form/div[2]/div/label/input')\n",
    "entry.send_keys('SAMPLE_USERNAME')\n",
    "entry = driver.find_element_by_xpath('/html/body/span/section/main/div/article/div/div[1]/div/form/div[3]/div/label/input')\n",
    "entry.send_keys('SAMPLE_PASSWORD')"
   ]
  },
  {
   "cell_type": "code",
   "execution_count": 4,
   "metadata": {},
   "outputs": [],
   "source": [
    "##### clicked the login button\n",
    "button = driver.find_element_by_xpath('/html/body/span/section/main/div/article/div/div[1]/div/form/div[4]/button/div')\n",
    "button.click()"
   ]
  },
  {
   "cell_type": "code",
   "execution_count": 5,
   "metadata": {},
   "outputs": [],
   "source": [
    "###### clicked the not now button\n",
    "time.sleep(3)\n",
    "button = driver.find_element_by_xpath('/html/body/div[3]/div/div/div[3]/button[2]')\n",
    "button.click()"
   ]
  },
  {
   "cell_type": "code",
   "execution_count": 6,
   "metadata": {},
   "outputs": [],
   "source": [
    "##### searched for food in the search bar\n",
    "time.sleep(3)\n",
    "entry = driver.find_element_by_xpath('/html/body/span/section/nav/div[2]/div/div/div[2]/input')\n",
    "entry.send_keys('food')"
   ]
  },
  {
   "cell_type": "code",
   "execution_count": 7,
   "metadata": {},
   "outputs": [
    {
     "name": "stdout",
     "output_type": "stream",
     "text": [
      "foodtalkindia\n",
      "hyderabad.food.diaries\n",
      "dilsefoodie\n",
      "foodys\n"
     ]
    },
    {
     "data": {
      "text/plain": [
       "['http://www.instagram.com/foodtalkindia',\n",
       " 'http://www.instagram.com/hyderabad.food.diaries',\n",
       " 'http://www.instagram.com/dilsefoodie',\n",
       " 'http://www.instagram.com/foodys']"
      ]
     },
     "execution_count": 7,
     "metadata": {},
     "output_type": "execute_result"
    }
   ],
   "source": [
    "####### found out url for all the respective links\n",
    "\n",
    "time.sleep(3)\n",
    "data = driver.find_elements_by_class_name('Ap253')\n",
    "count=0\n",
    "\n",
    "user_handles = []\n",
    "\n",
    "max_count=4\n",
    "for i in data:\n",
    "    \n",
    "    if i.text[0]!='#':\n",
    "        count+=1\n",
    "        if count==max_count+1:\n",
    "            break\n",
    "        print(i.text)\n",
    "        user_handles.append('http://www.instagram.com/'+i.text)\n",
    "\n",
    "user_handles"
   ]
  },
  {
   "cell_type": "code",
   "execution_count": 8,
   "metadata": {},
   "outputs": [],
   "source": [
    "##### tested going to each link one by one \n",
    "# ##### not required can be avoided\n",
    "# for i in user_handles:\n",
    "#     driver.get(i)\n",
    "    "
   ]
  },
  {
   "cell_type": "code",
   "execution_count": 9,
   "metadata": {},
   "outputs": [
    {
     "name": "stdout",
     "output_type": "stream",
     "text": [
      "http://www.instagram.com/foodtalkindia\n",
      "['4', 'HOURS', 'AGO']\n",
      "['1', 'DAY', 'AGO']\n",
      "['1', 'DAY', 'AGO']\n",
      "['2', 'DAYS', 'AGO']\n",
      "['2', 'DAYS', 'AGO']\n",
      "['2', 'DAYS', 'AGO']\n",
      "['3', 'DAYS', 'AGO']\n",
      "http://www.instagram.com/hyderabad.food.diaries\n",
      "['2', 'HOURS', 'AGO']\n",
      "['1', 'DAY', 'AGO']\n",
      "['2', 'DAYS', 'AGO']\n",
      "http://www.instagram.com/dilsefoodie\n",
      "['9', 'HOURS', 'AGO']\n",
      "['1', 'DAY', 'AGO']\n",
      "['2', 'DAYS', 'AGO']\n",
      "['2', 'DAYS', 'AGO']\n",
      "['2', 'DAYS', 'AGO']\n",
      "['3', 'DAYS', 'AGO']\n",
      "http://www.instagram.com/foodys\n",
      "['21', 'HOURS', 'AGO']\n",
      "['1', 'DAY', 'AGO']\n",
      "['1', 'DAY', 'AGO']\n",
      "['2', 'DAYS', 'AGO']\n",
      "['2', 'DAYS', 'AGO']\n",
      "['2', 'DAYS', 'AGO']\n",
      "['3', 'DAYS', 'AGO']\n",
      "['3', 'DAYS', 'AGO']\n"
     ]
    }
   ],
   "source": [
    "###### set a limit for user handles and collected all relevant information \n",
    "limit = len(user_handles)\n",
    "# limit = 1\n",
    "limiter = 0\n",
    "post_made_by_user_handle = []\n",
    "\n",
    "for i in user_handles:\n",
    "    driver.get(i)\n",
    "\n",
    "    if limiter==limit:\n",
    "        break\n",
    "\n",
    "    limiter+=1\n",
    "    print(i)\n",
    "    days = ['1','2','3']\n",
    "    button = driver.find_element_by_xpath('/html/body/span/section/main/div/div[3]/article/div[1]/div/div[1]/div[1]/a/div/div[2]')\n",
    "    button.click()\n",
    "    time.sleep(2)\n",
    "\n",
    "    count = 0\n",
    "    flag_first_time = True\n",
    "    while True:\n",
    "        time.sleep(2)\n",
    "        data = driver.find_element_by_xpath('/html/body/div[3]/div[2]/div/article/div[2]/div[2]/a/time')\n",
    "        data = data.text.split()\n",
    "        if data[1]=='HOURS':\n",
    "            count+=1\n",
    "        elif ((data[1]=='DAY' or data[1]=='DAYS') and data[0] in days):\n",
    "            count+=1\n",
    "        else:\n",
    "            break\n",
    "        print(data)\n",
    "        if flag_first_time:\n",
    "            button = driver.find_element_by_xpath('/html/body/div[3]/div[1]/div/div/a')\n",
    "            flag_first_time = False\n",
    "        else:\n",
    "            button = driver.find_element_by_xpath('/html/body/div[3]/div[1]/div/div/a[2]')\n",
    "        button.click()\n",
    "    post_made_by_user_handle.append(count)"
   ]
  },
  {
   "cell_type": "code",
   "execution_count": 10,
   "metadata": {},
   "outputs": [
    {
     "data": {
      "text/plain": [
       "(['http://www.instagram.com/foodtalkindia',\n",
       "  'http://www.instagram.com/hyderabad.food.diaries',\n",
       "  'http://www.instagram.com/dilsefoodie',\n",
       "  'http://www.instagram.com/foodys'],\n",
       " [7, 3, 6, 8])"
      ]
     },
     "execution_count": 10,
     "metadata": {},
     "output_type": "execute_result"
    }
   ],
   "source": [
    "##### checked the data if its valid or not\n",
    "user_handles,post_made_by_user_handle"
   ]
  },
  {
   "cell_type": "code",
   "execution_count": 11,
   "metadata": {},
   "outputs": [
    {
     "data": {
      "image/png": "[encoded data removed]",
      "text/plain": [
       "<Figure size 432x288 with 1 Axes>"
      ]
     },
     "metadata": {
      "needs_background": "light"
     },
     "output_type": "display_data"
    }
   ],
   "source": [
    "##### plotted a relevant graph for the project\n",
    "plt.bar(user_handles,post_made_by_user_handle)\n",
    "plt.xticks(rotation = 90)\n",
    "plt.show()"
   ]
  },
  {
   "cell_type": "code",
   "execution_count": 12,
   "metadata": {},
   "outputs": [],
   "source": [
    "###### wen to the base page url\n",
    "driver.get('http://www.instagram.com')"
   ]
  },
  {
   "cell_type": "code",
   "execution_count": 13,
   "metadata": {},
   "outputs": [],
   "source": [
    "##### searched for fpod again to get some hashtags\n",
    "time.sleep(3)\n",
    "entry = driver.find_element_by_xpath('/html/body/span/section/nav/div[2]/div/div/div[2]/input')\n",
    "entry.send_keys('food')"
   ]
  },
  {
   "cell_type": "code",
   "execution_count": 14,
   "metadata": {},
   "outputs": [
    {
     "name": "stdout",
     "output_type": "stream",
     "text": [
      "#foodporn\n",
      "#food\n",
      "#foodphotography\n",
      "#foodie\n",
      "#foods\n"
     ]
    },
    {
     "data": {
      "text/plain": [
       "['https://www.instagram.com/explore/tags/foodporn',\n",
       " 'https://www.instagram.com/explore/tags/food',\n",
       " 'https://www.instagram.com/explore/tags/foodphotography',\n",
       " 'https://www.instagram.com/explore/tags/foodie',\n",
       " 'https://www.instagram.com/explore/tags/foods']"
      ]
     },
     "execution_count": 14,
     "metadata": {},
     "output_type": "execute_result"
    }
   ],
   "source": [
    "##### saved the hashtas respective;y\n",
    "time.sleep(3)\n",
    "data = driver.find_elements_by_class_name('Ap253')\n",
    "count=0\n",
    "\n",
    "hash_tags = []\n",
    "\n",
    "max_count=5\n",
    "for i in data:\n",
    "    \n",
    "    if i.text[0]=='#':\n",
    "        count+=1\n",
    "        if count==max_count+1:\n",
    "            break\n",
    "        print(i.text)\n",
    "        hash_tags.append('https://www.instagram.com/explore/tags/'+i.text[1:])\n",
    "\n",
    "hash_tags"
   ]
  },
  {
   "cell_type": "code",
   "execution_count": 34,
   "metadata": {},
   "outputs": [],
   "source": [
    "###### scrapd data for the repetetion of tag values and stored it in the csv file after creating a dictionary\n",
    "no_of_posts_to_scrape = 2\n",
    "all_post_data = list()\n",
    "content = \"\"\n",
    "for i in range(len(user_handles)):\n",
    "    driver.get(user_handles[i])\n",
    "    time.sleep(3)\n",
    "    image =  driver.find_element_by_class_name('_9AhH0')\n",
    "    image.click()\n",
    "    for j in range(no_of_posts_to_scrape):\n",
    "        time.sleep(2)\n",
    "        data = driver.find_element_by_xpath('/html/body/div[3]/div[2]/div/article/div[2]/div[1]/ul/div/li/div/div/div[2]/span')\n",
    "        content = data.text\n",
    "#         print(content)\n",
    "        content = content.split()\n",
    "#         print(content)\n",
    "    for key in content:\n",
    "        all_post_data.append(key)"
   ]
  },
  {
   "cell_type": "code",
   "execution_count": 37,
   "metadata": {},
   "outputs": [
    {
     "data": {
      "text/plain": [
       "123"
      ]
     },
     "execution_count": 37,
     "metadata": {},
     "output_type": "execute_result"
    }
   ],
   "source": [
    "#### checking the no of relevant rows\n",
    "len(all_post_data)"
   ]
  },
  {
   "cell_type": "code",
   "execution_count": 38,
   "metadata": {},
   "outputs": [],
   "source": [
    "#### created a dictionary before making the csv\n",
    "dict = {}\n",
    "for i in all_post_data:\n",
    "    if i in dict:\n",
    "        dict[i] += 1\n",
    "    else:\n",
    "        dict[i] = 1"
   ]
  },
  {
   "cell_type": "code",
   "execution_count": 48,
   "metadata": {},
   "outputs": [],
   "source": [
    "#### made a pandas file to create it to csv\n",
    "li = []\n",
    "for i in dict:\n",
    "    li.append([i,dict[i]])\n",
    "li_pandas = pd.DataFrame(li)"
   ]
  },
  {
   "cell_type": "code",
   "execution_count": 51,
   "metadata": {},
   "outputs": [],
   "source": [
    "#### made the csv document\n",
    "li_pandas.to_csv('data_text.csv',index=False)"
   ]
  },
  {
   "cell_type": "code",
   "execution_count": 73,
   "metadata": {},
   "outputs": [],
   "source": [
    "#### seprated indices and values\n",
    "indices = li_pandas[0].value_counts().index\n",
    "values = li_pandas[0].value_counts().values"
   ]
  },
  {
   "cell_type": "code",
   "execution_count": 97,
   "metadata": {},
   "outputs": [],
   "source": [
    "##### made a ploting dataset\n",
    "plot_index = []\n",
    "plot_value = []\n",
    "count= 0\n",
    "for i in range(len(indices)):\n",
    "    if(indices[i][0]=='#'):\n",
    "        count+=1\n",
    "        if count==6:\n",
    "            break\n",
    "        plot_index.append(indices[i])\n",
    "        plot_value.append(values[i]-0.7)"
   ]
  },
  {
   "cell_type": "code",
   "execution_count": 99,
   "metadata": {},
   "outputs": [
    {
     "data": {
      "image/png": "[encoded data removed]",
      "text/plain": [
       "<Figure size 432x288 with 1 Axes>"
      ]
     },
     "metadata": {},
     "output_type": "display_data"
    }
   ],
   "source": [
    "####### stored the data and created a pie chart\n",
    "plt.pie(plot_value,labels=plot_index,explode=plot_value,rotatelabels=45)\n",
    "plt.show()"
   ]
  },
  {
   "cell_type": "code",
   "execution_count": 131,
   "metadata": {},
   "outputs": [
    {
     "name": "stdout",
     "output_type": "stream",
     "text": [
      "281000\n"
     ]
    }
   ],
   "source": [
    "# no_of_posts_to_scrape = 4\n",
    "\n",
    "# driver.get(user_handles[0])\n",
    "# time.sleep(2)\n",
    "# image = driver.find_element_by_class_name('_9AhH0')\n",
    "# image.click()\n",
    "# likes = 0\n",
    "# flag_first_time = True\n",
    "# time.sleep(2)\n",
    "# for i in range(no_of_posts_to_scrape):\n",
    "#     time.sleep(4)\n",
    "#     content = driver.find_element_by_xpath('/html/body/div[3]/div[2]/div/article/div[2]/section[2]/div/div/button/span')\n",
    "#     cont = content.text.replace(',','')\n",
    "#     likes+=int(cont)\n",
    "    \n",
    "#     if flag_first_time:\n",
    "#         button = driver.find_element_by_xpath('/html/body/div[3]/div[1]/div/div/a')\n",
    "#         flag_first_time = False\n",
    "#     else:\n",
    "#         button = driver.find_element_by_xpath('/html/body/div[3]/div[1]/div/div/a[2]')\n",
    "#     button.click()\n",
    "# print(likes)\n",
    "# button = driver.find_element_by_xpath('/html/body/div[3]/button[1]')\n",
    "# button.click()\n"
   ]
  },
  {
   "cell_type": "code",
   "execution_count": 134,
   "metadata": {},
   "outputs": [
    {
     "name": "stdout",
     "output_type": "stream",
     "text": [
      "average values are as follows\n",
      "[233, 940, 7760, 184042]\n"
     ]
    }
   ],
   "source": [
    "##### used it to collect data regarding likes and averages and total followers\n",
    "no_of_posts_to_scrape = 2\n",
    "all_post_data = list()\n",
    "followers_size = list()\n",
    "content = \"\"\n",
    "total = 0\n",
    "liked = []\n",
    "for i in range(len(user_handles)):    \n",
    "    driver.get(user_handles[i])\n",
    "    data = driver.find_element_by_xpath('/html/body/span/section/main/div/header/section/ul/li[2]/a/span')\n",
    "    cont = data.text\n",
    "    if(cont[-1]=='k'):\n",
    "        value = int(float(cont[:len(cont)-1]))*1000\n",
    "    elif(cont[-1]=='m'):\n",
    "        value = int(float(cont[:len(cont)-1]))*100000\n",
    "    else:\n",
    "        value = int(float(cont))\n",
    "    followers_size.append(value)\n",
    "\n",
    "    time.sleep(4)\n",
    "    image = driver.find_element_by_class_name('_9AhH0')\n",
    "    image.click()\n",
    "    likes = 0\n",
    "    flag_first_time = True\n",
    "    time.sleep(2)\n",
    "    for i in range(no_of_posts_to_scrape):\n",
    "        time.sleep(4)\n",
    "        try:\n",
    "            content = driver.find_element_by_xpath('/html/body/div[3]/div[2]/div/article/div[2]/section[2]/div/div/button/span')\n",
    "        except:\n",
    "            content = driver.find_element_by_xpath('/html/body/div[3]/div[2]/div/article/div[2]/section[2]/div/span/span')\n",
    "        cont = content.text.replace(',','')\n",
    "        likes+=int(cont)\n",
    "\n",
    "        if flag_first_time:\n",
    "            button = driver.find_element_by_xpath('/html/body/div[3]/div[1]/div/div/a')\n",
    "            flag_first_time = False\n",
    "        else:\n",
    "            button = driver.find_element_by_xpath('/html/body/div[3]/div[1]/div/div/a[2]')\n",
    "        button.click()\n",
    "    liked.append(likes)\n",
    "    total+=likes\n",
    "    button = driver.find_element_by_xpath('/html/body/div[3]/button[1]')\n",
    "    button.click()\n",
    "    \n",
    "for i in range(len(user_handles)):\n",
    "    liked[i]//=len(user_handles)\n",
    "print(\"average values are as follows\")\n",
    "print(liked)"
   ]
  },
  {
   "cell_type": "code",
   "execution_count": 144,
   "metadata": {},
   "outputs": [
    {
     "name": "stdout",
     "output_type": "stream",
     "text": [
      "ratio for liked by followers is as follows\n",
      "0.0008291814946619217\n",
      "0.012702702702702703\n",
      "0.027132867132867132\n",
      "0.20449111111111112\n"
     ]
    },
    {
     "data": {
      "image/png": "[encoded data removed]",
      "text/plain": [
       "<Figure size 432x288 with 1 Axes>"
      ]
     },
     "metadata": {
      "needs_background": "light"
     },
     "output_type": "display_data"
    }
   ],
   "source": [
    "#### plotted a relevant graph for the same\n",
    "liked_numpy = np.array(liked)\n",
    "followers_size_numpy = np.array(followers_size)\n",
    "print('ratio for liked by followers is as follows')\n",
    "\n",
    "final_data = liked_numpy/followers_size_numpy\n",
    "for i in (final_data):\n",
    "    print(i)\n",
    "\n",
    "plt.bar(user_handles,final_data)\n",
    "plt.xticks(rotation=90)\n",
    "plt.show()"
   ]
  }
 ],
 "metadata": {
  "kernelspec": {
   "display_name": "Python 3",
   "language": "python",
   "name": "python3"
  },
  "language_info": {
   "codemirror_mode": {
    "name": "ipython",
    "version": 3
   },
   "file_extension": ".py",
   "mimetype": "text/x-python",
   "name": "python",
   "nbconvert_exporter": "python",
   "pygments_lexer": "ipython3",
   "version": "3.7.3"
  }
 },
 "nbformat": 4,
 "nbformat_minor": 2
}
