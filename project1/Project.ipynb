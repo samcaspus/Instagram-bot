{
 "cells": [
  {
   "cell_type": "code",
   "execution_count": 1,
   "metadata": {},
   "outputs": [],
   "source": [
    "##### added header files\n",
    "from selenium import webdriver\n",
    "from bs4 import BeautifulSoup\n",
    "import time\n",
    "import requests as rq\n",
    "from selenium.webdriver import ActionChains"
   ]
  },
  {
   "cell_type": "code",
   "execution_count": 2,
   "metadata": {},
   "outputs": [],
   "source": [
    "nooflikes = 30\n",
    "person = 'dilsefoodie'"
   ]
  },
  {
   "cell_type": "code",
   "execution_count": 3,
   "metadata": {},
   "outputs": [],
   "source": [
    "driver = webdriver.Chrome('./chromedriver.exe')\n",
    "driver.maximize_window()"
   ]
  },
  {
   "cell_type": "code",
   "execution_count": 4,
   "metadata": {},
   "outputs": [],
   "source": [
    "driver.get('https://www.instagram.com/accounts/login/?source=auth_switcher')"
   ]
  },
  {
   "cell_type": "code",
   "execution_count": 5,
   "metadata": {},
   "outputs": [],
   "source": [
    "#### username password entry\n",
    "time.sleep(4)\n",
    "inputs = driver.find_elements_by_tag_name('input')\n",
    "inputs[0].send_keys('username')\n",
    "inputs[1].send_keys('password')\n"
   ]
  },
  {
   "cell_type": "code",
   "execution_count": 6,
   "metadata": {},
   "outputs": [],
   "source": [
    "##### logged in successfuly\n",
    "time.sleep(1)\n",
    "login_button = driver.find_elements_by_tag_name('button')\n",
    "login_button[1].click()"
   ]
  },
  {
   "cell_type": "code",
   "execution_count": 7,
   "metadata": {},
   "outputs": [],
   "source": [
    "########cleicked not now\n",
    "time.sleep(2)\n",
    "button = driver.find_elements_by_xpath('/html/body/div[3]/div/div/div[3]/button[2]')\n",
    "button[0].click()"
   ]
  },
  {
   "cell_type": "code",
   "execution_count": 8,
   "metadata": {},
   "outputs": [],
   "source": [
    "####### searched for fool\n",
    "content = driver.find_element_by_xpath('/html/body/span/section/nav/div[2]/div/div/div[2]/input')\n",
    "content.send_keys('food')\n"
   ]
  },
  {
   "cell_type": "code",
   "execution_count": 9,
   "metadata": {},
   "outputs": [
    {
     "name": "stdout",
     "output_type": "stream",
     "text": [
      "The Food Bar\n",
      "foodys\n",
      "Rasi Food\n",
      "foodtalkindia\n",
      "curiousfoodieswanderlust\n",
      "destinywithfood\n",
      "dilsefoodie\n",
      "Food Street Fiesta Coimbatore\n",
      "food.darzee\n",
      "food\n",
      "hyderabad.food.diaries\n",
      "bornfoodiehyderabad\n",
      "apronovercape\n",
      "_foodie_minded_\n",
      "foodies_tezpur\n",
      "utkarshbansal\n",
      "foodmad99\n",
      "food_feast_01\n",
      "forever_a_foodiee\n",
      "foodie_dil_se\n",
      "food__vampire\n",
      "foodyfetish\n",
      "food__burst\n",
      "thehydfoodblog\n",
      "food_needed\n",
      "may.oishii\n",
      "foodiesince96\n",
      "foodgod\n",
      "foodraveller_1122\n",
      "foodandbikes\n",
      "_foodiegram_.in\n",
      "foodie_nuts\n",
      "food_fanatic_jaipur\n",
      "aamir_foodietraveler\n",
      "foodrad\n",
      "thefood_court_alwal\n",
      "foodee_ambient_hyd\n",
      "foodandkhan\n",
      "foodcomics_\n",
      "foodblogofhyd\n",
      "farhasfoodfusion7\n",
      "foodieswagg\n",
      "foodkhalifa\n",
      "hyderabadfoodiegirl\n",
      "thecrazy_foodie\n",
      "foodyzdiy\n",
      "foodiee_biker_rs200\n",
      "urbancheckpoints\n",
      "sweta_the_food_fanatic\n",
      "yourfoodlab\n",
      "foodyy_moody\n",
      "foodpremi26\n",
      "foodfast__\n",
      "obsessive.food.disorder\n",
      "foodtrails_hyderabad\n",
      "foodengineeringg\n",
      "junk.food\n",
      "fflpeople\n",
      "foodieshots_hyd\n",
      "foodcookery\n",
      "dont_share_food_08\n",
      "borntotastefood\n",
      "chaibisketfood\n",
      "foodypost.s\n",
      "hyderabad.foodie.crush\n",
      "foodishah\n",
      "foodholic_suraties\n",
      "foodie_hyderabad_india29\n",
      "foodpandaindia\n",
      "fudes_\n",
      "full_on_food\n",
      "ghumakkaddog\n",
      "foodhallindia\n",
      "tastydrips\n",
      "foodie.amy6\n",
      "foodloversmumbai\n",
      "nom.nom.foodie\n",
      "ibratdoesntsharefood\n",
      "twifoo\n",
      "bangalore_foodjunkies\n",
      "khaane_ke_deewane\n",
      "thisisinsiderfood\n",
      "foodlty\n",
      "the_foodie_amigos\n",
      "foodaholix_blog\n",
      "buzzfeedfood\n",
      "gujarati_foodie\n",
      "shoestring_foodies\n",
      "videostutorialss\n",
      "food_empiire\n",
      "foodiee_tales\n",
      "foodyeating\n",
      "indianfoodieshub\n",
      "foodshabit\n",
      "foodonautss\n",
      "foodrush.recipe\n"
     ]
    }
   ],
   "source": [
    "#### collected relevent data\n",
    "time.sleep(2)\n",
    "data = driver.find_elements_by_class_name('Ap253')\n",
    "for i in data:\n",
    "    if i.text[0]!='#':\n",
    "        print(i.text)"
   ]
  },
  {
   "cell_type": "code",
   "execution_count": 10,
   "metadata": {},
   "outputs": [],
   "source": [
    "##### searched for so delhi\n",
    "content.clear()\n",
    "time.sleep(1)\n",
    "content.send_keys('So Delhi')\n",
    "time.sleep(1)\n",
    "data = driver.find_element_by_class_name('Ap253')\n",
    "data.click()"
   ]
  },
  {
   "cell_type": "code",
   "execution_count": 11,
   "metadata": {},
   "outputs": [
    {
     "name": "stdout",
     "output_type": "stream",
     "text": [
      "following\n",
      "unfollowing\n"
     ]
    }
   ],
   "source": [
    "##### liked followed and unfollowed the page\n",
    "time.sleep(2)\n",
    "button = driver.find_element_by_xpath('/html/body/span/section/main/div/header/section/div[1]/div[1]/span/span[1]/button')\n",
    "button.click()\n",
    "print('following')\n",
    "time.sleep(2)\n",
    "button.click()\n",
    "time.sleep(2)\n",
    "button = driver.find_element_by_xpath('/html/body/div[3]/div/div/div[3]/button[1]')\n",
    "button.click()\n",
    "print('unfollowing')\n"
   ]
  },
  {
   "cell_type": "code",
   "execution_count": 12,
   "metadata": {},
   "outputs": [],
   "source": [
    "###### searced a purticular person\n",
    "content = driver.find_element_by_xpath('/html/body/span/section/nav/div[2]/div/div/div[2]/input')\n",
    "content.send_keys(person)\n",
    "time.sleep(1)\n",
    "data = driver.find_element_by_class_name('Ap253')\n",
    "data.click()"
   ]
  },
  {
   "cell_type": "code",
   "execution_count": 13,
   "metadata": {},
   "outputs": [],
   "source": [
    "##### licked his 30 photos\n",
    "time.sleep(1)\n",
    "content = driver.find_element_by_class_name('_9AhH0')\n",
    "content.click()"
   ]
  },
  {
   "cell_type": "code",
   "execution_count": 14,
   "metadata": {},
   "outputs": [
    {
     "name": "stdout",
     "output_type": "stream",
     "text": [
      "liked\n",
      "\n",
      "liked\n",
      "[2]\n"
     ]
    }
   ],
   "source": [
    "#button = driver.find_element_by_xpath('/html/body/div[3]/div[2]/div/article/div[2]/section[1]/span[1]/button/span')\n",
    "#button.click()\n",
    "#/html/body/div[3]/div[1]/div/div/a\n",
    "### liked 30 photos\n",
    "time.sleep(1)\n",
    "for i in range(nooflikes):\n",
    "    time.sleep(1)\n",
    "    button = driver.find_element_by_xpath('/html/body/div[3]/div[2]/div/article/div[2]/section[1]/span[1]/button/span')\n",
    "    \n",
    "    button.click()\n",
    "    print('liked')\n",
    "    time.sleep(1)\n",
    "    j=1\n",
    "    if i+1>1:\n",
    "        number = \"[2]\"\n",
    "    else:\n",
    "        number=\"\"\n",
    "    print(number)\n",
    "    button = driver.find_element_by_xpath('/html/body/div[3]/div[1]/div/div/a'+number)\n",
    "    button.click()"
   ]
  },
  {
   "cell_type": "code",
   "execution_count": 15,
   "metadata": {},
   "outputs": [
    {
     "name": "stdout",
     "output_type": "stream",
     "text": [
      "unliked\n",
      "\n",
      "unliked\n",
      "[2]\n"
     ]
    }
   ],
   "source": [
    "#button = driver.find_element_by_xpath('/html/body/div[3]/div[2]/div/article/div[2]/section[1]/span[1]/button/span')\n",
    "#button.click()\n",
    "#/html/body/div[3]/div[1]/div/div/a\n",
    "###3 unliked 30 photos\n",
    "button = driver.find_element_by_xpath('/html/body/div[3]/button[1]')\n",
    "button.click()\n",
    "\n",
    "time.sleep(1)\n",
    "content = driver.find_element_by_class_name('_9AhH0')\n",
    "content.click()\n",
    "\n",
    "for i in range(nooflikes):\n",
    "    time.sleep(1)\n",
    "    button = driver.find_element_by_xpath('/html/body/div[3]/div[2]/div/article/div[2]/section[1]/span[1]/button/span')\n",
    "    \n",
    "    button.click()\n",
    "    print('unliked')\n",
    "    time.sleep(1)\n",
    "    j=1\n",
    "    if i+1>1:\n",
    "        number = \"[2]\"\n",
    "    else:\n",
    "        number=\"\"\n",
    "    print(number)\n",
    "    button = driver.find_element_by_xpath('/html/body/div[3]/div[1]/div/div/a'+number)\n",
    "    button.click()\n",
    "    \n",
    "button = driver.find_element_by_xpath('/html/body/div[3]/button[1]')\n",
    "button.click()"
   ]
  },
  {
   "cell_type": "code",
   "execution_count": 16,
   "metadata": {},
   "outputs": [],
   "source": [
    "#### searched for coding ninjas story\n",
    "content = driver.find_element_by_xpath('/html/body/span/section/nav/div[2]/div/div/div[2]/input')\n",
    "content.send_keys('coding.ninjas')\n",
    "time.sleep(2)\n",
    "data = driver.find_element_by_class_name('Ap253')\n",
    "data.click()\n",
    "time.sleep(2)"
   ]
  },
  {
   "cell_type": "code",
   "execution_count": 17,
   "metadata": {},
   "outputs": [
    {
     "name": "stdout",
     "output_type": "stream",
     "text": [
      "story is present\n"
     ]
    }
   ],
   "source": [
    "#### getting story of coding ninjast\n",
    "##### printed data about the story\n",
    "time.sleep(2)\n",
    "content = driver.find_element_by_xpath('/html/body/span/section/main/div/header/div/div/canvas')\n",
    "time.sleep(1)\n",
    "data = content.get_attribute('outerHTML')\n",
    "data = data[data.find('height')+8:]\n",
    "index = data.find('height')\n",
    "if data[index+8:index+11]=='166':\n",
    "    print('story is present')\n",
    "    content = driver.find_element_by_xpath('/html/body/span/section/main/div/header/div/div/span/img')\n",
    "    content.click()\n",
    "else:\n",
    "    print('story is not present')\n"
   ]
  },
  {
   "cell_type": "code",
   "execution_count": 19,
   "metadata": {},
   "outputs": [],
   "source": [
    "#### checked the followers of foodtalkindia\n",
    "content = driver.find_element_by_xpath('/html/body/span/section/nav/div[2]/div/div/div[2]/input')\n",
    "content.send_keys('foodtalkindia')\n",
    "time.sleep(2)\n",
    "data = driver.find_element_by_class_name('Ap253')\n",
    "data.click()\n",
    "time.sleep(2)"
   ]
  },
  {
   "cell_type": "code",
   "execution_count": 28,
   "metadata": {},
   "outputs": [],
   "source": [
    "import time\n",
    "from selenium.webdriver.common.keys import Keys\n",
    "content = driver.find_element_by_xpath('/html/body/span/section/main/div/header/section/ul/li[2]/a')\n",
    "content.click()"
   ]
  },
  {
   "cell_type": "code",
   "execution_count": 31,
   "metadata": {
    "scrolled": true
   },
   "outputs": [
    {
     "name": "stdout",
     "output_type": "stream",
     "text": [
      "24\n",
      "36\n",
      "['https://www.instagram.com/karanthakur00966/', 'https://www.instagram.com/food__mumbai/', 'https://www.instagram.com/shivali825/', 'https://www.instagram.com/iffets__prabhu/', 'https://www.instagram.com/shealkhan97/', 'https://www.instagram.com/sruthi_hk/', 'https://www.instagram.com/st_ar_du_st/', 'https://www.instagram.com/rishiyadav0/', 'https://www.instagram.com/kamlesh.malviya.92/', 'https://www.instagram.com/prakashwarekar/', 'https://www.instagram.com/a_n_n_y_a_28_/', 'https://www.instagram.com/subhashishmitra/', 'https://www.instagram.com/agarwalmedha/', 'https://www.instagram.com/arifkhan.music/', 'https://www.instagram.com/sillent_words__/', 'https://www.instagram.com/taste.revolution/', 'https://www.instagram.com/harshadn/', 'https://www.instagram.com/its_me_shahzad/', 'https://www.instagram.com/ajeet6189/', 'https://www.instagram.com/sanketbhau_bhalerao/', 'https://www.instagram.com/grub.grade/', 'https://www.instagram.com/vaja_gaurav_v_g_offical_786/', 'https://www.instagram.com/dubai_98100/', 'https://www.instagram.com/surg_amey/', 'https://www.instagram.com/sultans_kitchen_lucknow/', 'https://www.instagram.com/abpaul2019/', 'https://www.instagram.com/winged_wanderer_001/', 'https://www.instagram.com/simar__shah/', 'https://www.instagram.com/gaurav_gurjar_0061/', 'https://www.instagram.com/sachinp12/']\n"
     ]
    }
   ],
   "source": [
    "##### printed the data for top 500 followers\n",
    "\n",
    "max=500\n",
    "time.sleep(2)\n",
    "followersList = driver.find_element_by_xpath('//div[(@role=\"dialog\")]/div[2]/ul/div')\n",
    "numberOfFollowersInList = len(followersList.find_elements_by_css_selector('li'))\n",
    "followersList.click()\n",
    "actionChain = webdriver.ActionChains(driver)\n",
    "while (numberOfFollowersInList < max):\n",
    "    actionChain.key_down(Keys.SPACE).key_up(Keys.SPACE).perform()\n",
    "    time.sleep(20)\n",
    "    numberOfFollowersInList = len(followersList.find_elements_by_css_selector('li'))\n",
    "    print(numberOfFollowersInList)\n",
    "followers = []\n",
    "for user in followersList.find_elements_by_css_selector('li'):\n",
    "    userLink = user.find_element_by_css_selector('a').get_attribute('href')\n",
    "    #print(userLink)\n",
    "    followers.append(userLink)\n",
    "    if (len(followers) == max):\n",
    "        break\n",
    "print(followers)"
   ]
  }
 ],
 "metadata": {
  "kernelspec": {
   "display_name": "Python 3",
   "language": "python",
   "name": "python3"
  },
  "language_info": {
   "codemirror_mode": {
    "name": "ipython",
    "version": 3
   },
   "file_extension": ".py",
   "mimetype": "text/x-python",
   "name": "python",
   "nbconvert_exporter": "python",
   "pygments_lexer": "ipython3",
   "version": "3.7.3"
  }
 },
 "nbformat": 4,
 "nbformat_minor": 2
}
